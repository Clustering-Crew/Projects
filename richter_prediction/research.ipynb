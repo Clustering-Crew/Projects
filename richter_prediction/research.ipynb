{
 "cells": [
  {
   "cell_type": "code",
   "execution_count": 1,
   "metadata": {},
   "outputs": [
    {
     "name": "stderr",
     "output_type": "stream",
     "text": [
      "d:\\Anaconda\\envs\\tf\\lib\\site-packages\\tqdm\\auto.py:21: TqdmWarning: IProgress not found. Please update jupyter and ipywidgets. See https://ipywidgets.readthedocs.io/en/stable/user_install.html\n",
      "  from .autonotebook import tqdm as notebook_tqdm\n"
     ]
    }
   ],
   "source": [
    "import os\n",
    "import kagglehub\n",
    "import pandas as pd"
   ]
  },
  {
   "cell_type": "code",
   "execution_count": 2,
   "metadata": {},
   "outputs": [
    {
     "name": "stdout",
     "output_type": "stream",
     "text": [
      "Downloading from https://www.kaggle.com/api/v1/datasets/download/rikdifos/credit-card-approval-prediction?dataset_version_number=3...\n"
     ]
    },
    {
     "name": "stderr",
     "output_type": "stream",
     "text": [
      "100%|██████████| 5.32M/5.32M [00:05<00:00, 1.00MB/s]"
     ]
    },
    {
     "name": "stdout",
     "output_type": "stream",
     "text": [
      "Extracting files...\n"
     ]
    },
    {
     "name": "stderr",
     "output_type": "stream",
     "text": [
      "\n"
     ]
    }
   ],
   "source": [
    "path = kagglehub.dataset_download(\"rikdifos/credit-card-approval-prediction\")"
   ]
  },
  {
   "cell_type": "code",
   "execution_count": 2,
   "metadata": {},
   "outputs": [],
   "source": [
    "app_record = pd.read_csv(\"./dataset/application_record.csv\")\n",
    "credit_record = pd.read_csv(\"./dataset/credit_record.csv\")"
   ]
  },
  {
   "cell_type": "code",
   "execution_count": 7,
   "metadata": {},
   "outputs": [
    {
     "name": "stdout",
     "output_type": "stream",
     "text": [
      "Number of records - 438557\n",
      "\n",
      "Nan Value details : \n",
      "ID                          0\n",
      "CODE_GENDER                 0\n",
      "FLAG_OWN_CAR                0\n",
      "FLAG_OWN_REALTY             0\n",
      "CNT_CHILDREN                0\n",
      "AMT_INCOME_TOTAL            0\n",
      "NAME_INCOME_TYPE            0\n",
      "NAME_EDUCATION_TYPE         0\n",
      "NAME_FAMILY_STATUS          0\n",
      "NAME_HOUSING_TYPE           0\n",
      "DAYS_BIRTH                  0\n",
      "DAYS_EMPLOYED               0\n",
      "FLAG_MOBIL                  0\n",
      "FLAG_WORK_PHONE             0\n",
      "FLAG_PHONE                  0\n",
      "FLAG_EMAIL                  0\n",
      "OCCUPATION_TYPE        134203\n",
      "CNT_FAM_MEMBERS             0\n",
      "dtype: int64\n"
     ]
    }
   ],
   "source": [
    "print(f\"Number of records - {app_record.shape[0]}\")\n",
    "print(\"\\nNan Value details : \")\n",
    "print(app_record.isnull().sum())"
   ]
  },
  {
   "cell_type": "markdown",
   "metadata": {},
   "source": [
    "- OCCUPATION_TYPE => NAN values are present"
   ]
  },
  {
   "cell_type": "markdown",
   "metadata": {},
   "source": [
    "## Rename columns"
   ]
  },
  {
   "cell_type": "code",
   "execution_count": null,
   "metadata": {},
   "outputs": [],
   "source": [
    "app_record.rename(\n",
    "    {\n",
    "        \"CODE_GENDER\": \"gender\",\n",
    "        \"FLAG_OWN_CAR\": \"has_car\",\n",
    "        \"FLAG_OWN_REALTY\":\n",
    "    }\n",
    ")"
   ]
  }
 ],
 "metadata": {
  "kernelspec": {
   "display_name": "Python 3 (ipykernel)",
   "language": "python",
   "name": "python3"
  },
  "language_info": {
   "codemirror_mode": {
    "name": "ipython",
    "version": 3
   },
   "file_extension": ".py",
   "mimetype": "text/x-python",
   "name": "python",
   "nbconvert_exporter": "python",
   "pygments_lexer": "ipython3",
   "version": "3.10.14"
  }
 },
 "nbformat": 4,
 "nbformat_minor": 2
}
